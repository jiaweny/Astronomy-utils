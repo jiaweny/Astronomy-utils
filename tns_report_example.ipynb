{
 "cells": [
  {
   "cell_type": "markdown",
   "id": "serial-advertiser",
   "metadata": {},
   "source": [
    "## This is an example for tns bulk report\n",
    "\n",
    "ask me for api key"
   ]
  },
  {
   "cell_type": "code",
   "execution_count": 1,
   "id": "aerial-budget",
   "metadata": {},
   "outputs": [],
   "source": [
    "\n",
    "api_key='ask me for api key!!' \n",
    "from create_report import *"
   ]
  },
  {
   "cell_type": "code",
   "execution_count": 33,
   "id": "incoming-statistics",
   "metadata": {},
   "outputs": [],
   "source": [
    "\n",
    "# this is only for test. the information is not true.\n",
    "ra,dec = 183.27688, 0.04\n",
    "nodet_jd, nodet_f, nodet_lm = 0,0,0  # if 0, then last non detection is set to DECam Legacy Survey\n",
    "mjd, mag, magerr, filt = 2459331.652579669,21.49413065206108,0.0662853684386435,'g'"
   ]
  },
  {
   "cell_type": "code",
   "execution_count": 34,
   "id": "removed-picnic",
   "metadata": {},
   "outputs": [],
   "source": [
    "at_entries = []\n",
    "\n",
    "# You can also report mutiple objects at the same time !\n",
    "if not tns_exist(ra,dec, radius=3,url=\"https://www.wis-tns.org/api/get/search\",api_key=api_key):\n",
    "    # check if object already exist on tns. if so, then pass\n",
    "    \n",
    "    # create non-detection\n",
    "    non_det = non_detection(nodet_jd, nodet_f, nodet_lm)\n",
    "    # create first detection photometry information\n",
    "    photometry_group = create_photometry_group([mjd], [mag], [magerr], [filt])\n",
    "    # create bulk report entry for this object\n",
    "    at_entry = create_at_entry(ra, dec, mjd, photometry_group, non_detection=non_det, related_files=\"\")\n",
    "    \n",
    "    at_entries.append(at_entry)"
   ]
  },
  {
   "cell_type": "code",
   "execution_count": 35,
   "id": "unnecessary-pathology",
   "metadata": {},
   "outputs": [
    {
     "name": "stdout",
     "output_type": "stream",
     "text": [
      "{\n",
      "  \"at_report\": {\n",
      "    \"0\": {\n",
      "      \"ra\": {\n",
      "        \"value\": \"183.27688\",\n",
      "        \"error\": \"\",\n",
      "        \"units\": \"deg\"\n",
      "      },\n",
      "      \"dec\": {\n",
      "        \"value\": \"0.04\",\n",
      "        \"error\": \"\",\n",
      "        \"units\": \"deg\"\n",
      "      },\n",
      "      \"reporting_group_id\": \"114\",\n",
      "      \"discovery_data_source_id\": \"114\",\n",
      "      \"reporter\": \"Xingzhuo Chen (Texas A&M U.), Lei Hu (Purple Mountain Observatory),        Jiawen Yang (Texas A&M U.), Jian Tao (Texas A&M U.), Lifan Wang (Texas A&M U.),        Xiaofeng Wang (Tsinghua University), Antonella Palmese (KICP), Dietrich Baade (ESO),        Segev BenZvi (U. of Rochester), Peter Brown (Texas A&M U.), Jeffery Cooke (Swinburne U.), Kyle Dawson (The University of Utah),         Melissa Graham (University of Washington), Ji-an Jiang (The University of Tokyo), Alex Kim (LBNL),         Anton Koekemoer (STSci), Wenxiong Li (Tel Aviv U.), Jeremy Mould (Swinburne U.), Peter Nugent (LBNL),         Ferdinando Patat (ESO), Syed A. Uddin (Carnegie Observatories), Jujia Zhang (Yunnan Astronomical Observatory)\",\n",
      "      \"discovery_datetime\": \"2459331.652579669\",\n",
      "      \"at_type\": \"1\",\n",
      "      \"host_name\": \"\",\n",
      "      \"host_redshift\": \"\",\n",
      "      \"transient_redshift\": \"\",\n",
      "      \"internal_name\": \"\",\n",
      "      \"remarks\": \"\",\n",
      "      \"photometry\": {\n",
      "        \"photometry_group\": {\n",
      "          \"0\": {\n",
      "            \"obsdate\": \"2459331.652579669\",\n",
      "            \"flux\": \"21.49413065206108\",\n",
      "            \"flux_error\": \"0.0662853684386435\",\n",
      "            \"flux_units\": \"1\",\n",
      "            \"filter_value\": \"21\",\n",
      "            \"instrument_value\": \"172\"\n",
      "          }\n",
      "        }\n",
      "      },\n",
      "      \"related_files\": \"\",\n",
      "      \"non_detection\": {\n",
      "        \"archiveid\": \"0\",\n",
      "        \"archival_remarks\": \"DECam Legacy Survey\"\n",
      "      }\n",
      "    }\n",
      "  }\n",
      "}\n"
     ]
    }
   ],
   "source": [
    "# combine report information for multiple objects and save to text file.\n",
    "\n",
    "at_json = create_at_json(at_entries)\n",
    "with open('test_bulk_report.txt', 'w') as outfile:\n",
    "    json.dump(at_json, outfile,indent=4)\n",
    "print(json.dumps(at_json,indent=2))\n"
   ]
  },
  {
   "cell_type": "code",
   "execution_count": 36,
   "id": "unusual-customs",
   "metadata": {},
   "outputs": [
    {
     "name": "stdout",
     "output_type": "stream",
     "text": [
      "Sending test_bulk_report.txt to the TNS...\n",
      "ID code = 200\n",
      "ID message = OK\n",
      "The report was sent to the TNS.\n",
      "Report ID = 72683\n",
      "Sending reply for the report id 72683 ...\n",
      "ID code = 200\n",
      "ID message = OK\n",
      "The report was successfully processed on the TNS.\n",
      "\n",
      "111\n",
      "json_data {'id_code': 200, 'id_message': 'OK', 'data': {'received_data': {'at_report': [{'ra': {'value': 183.27688, 'units': 'deg'}, 'dec': {'value': 0.04, 'units': 'deg'}, 'reporting_group_id': 114, 'discovery_data_source_id': 114, 'reporter': 'Xingzhuo Chen (Texas A&M U.), Lei Hu (Purple Mountain Observatory),        Jiawen Yang (Texas A&M U.), Jian Tao (Texas A&M U.), Lifan Wang (Texas A&M U.),        Xiaofeng Wang (Tsinghua University), Antonella Palmese (KICP), Dietrich Baade (ESO),        Segev BenZvi (U. of Rochester), Peter Brown (Texas A&M U.), Jeffery Cooke (Swinburne U.), Kyle Dawson (The University of Utah),         Melissa Graham (University of Washington), Ji-an Jiang (The University of Tokyo), Alex Kim (LBNL),         Anton Koekemoer (STSci), Wenxiong Li (Tel Aviv U.), Jeremy Mould (Swinburne U.), Peter Nugent (LBNL),         Ferdinando Patat (ESO), Syed A. Uddin (Carnegie Observatories), Jujia Zhang (Yunnan Astronomical Observatory)', 'discovery_datetime': 2459331.652579669, 'at_type': 1, 'photometry': {'photometry_group': [{'obsdate': 2459331.652579669, 'flux': 21.49413065206108, 'flux_error': 0.0662853684386435, 'flux_units': 1, 'filter_value': 21, 'instrument_value': 172}]}, 'non_detection': {'archiveid': 0, 'archival_remarks': 'DECam Legacy Survey'}}]}, 'feedback': {'at_report': [{'100': {'message': 'Transient object was inserted.', 'objname': '2021lth', 'message_id': 100}, 'at_rep': {'103': {'message': 'Submitted', 'message_id': 103}}}]}}}\n",
      "[{'at_report': [{'100': {'message': 'Transient object was inserted.', 'objname': '2021lth', 'message_id': 100}, 'at_rep': {'103': {'message': 'Submitted', 'message_id': 103}}}]}] feedback\n",
      "1111\n",
      "----------------------------------------------------------------------\n",
      "Message ID = 100\n",
      "Message = Transient object was inserted. Object name = 2021lth\n",
      "----------------------------------------------------------------------\n",
      "\n"
     ]
    }
   ],
   "source": [
    "\n",
    "TNS=\"sandbox.wis-tns.org\" # use sandbox to test first before you commit to tns website!\n",
    "# TNS=\"www.wis-tns.org\"\n",
    "url_tns_api=\"https://\"+TNS+\"/api\"\n",
    "\n",
    "# send report to tns website.\n",
    "\n",
    "send_report(url_tns_api, 'test_bulk_report.txt', 'json',api_key=api_key)"
   ]
  },
  {
   "cell_type": "code",
   "execution_count": 37,
   "id": "global-officer",
   "metadata": {},
   "outputs": [
    {
     "data": {
      "text/plain": [
       "{'at_report': [{'100': {'message': 'Transient object was inserted.',\n",
       "    'objname': '2021lth',\n",
       "    'message_id': 100},\n",
       "   'at_rep': {'103': {'message': 'Submitted', 'message_id': 103}}}]}"
      ]
     },
     "execution_count": 37,
     "metadata": {},
     "output_type": "execute_result"
    }
   ],
   "source": [
    "json.loads(reply(url_tns_api, 72683,api_key).content.decode(\"utf-8\"))['data']['feedback']"
   ]
  },
  {
   "cell_type": "code",
   "execution_count": null,
   "id": "purple-speaking",
   "metadata": {},
   "outputs": [],
   "source": []
  }
 ],
 "metadata": {
  "kernelspec": {
   "display_name": "Python 3",
   "language": "python",
   "name": "python3"
  },
  "language_info": {
   "codemirror_mode": {
    "name": "ipython",
    "version": 3
   },
   "file_extension": ".py",
   "mimetype": "text/x-python",
   "name": "python",
   "nbconvert_exporter": "python",
   "pygments_lexer": "ipython3",
   "version": "3.6.8"
  }
 },
 "nbformat": 4,
 "nbformat_minor": 5
}
